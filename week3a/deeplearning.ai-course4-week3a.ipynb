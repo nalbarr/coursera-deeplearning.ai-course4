{
 "cells": [
  {
   "cell_type": "code",
   "execution_count": 3,
   "metadata": {},
   "outputs": [
    {
     "ename": "SyntaxError",
     "evalue": "invalid syntax (<ipython-input-3-57b5da6329d3>, line 31)",
     "output_type": "error",
     "traceback": [
      "\u001b[0;36m  File \u001b[0;32m\"<ipython-input-3-57b5da6329d3>\"\u001b[0;36m, line \u001b[0;32m31\u001b[0m\n\u001b[0;31m    images = += images2\u001b[0m\n\u001b[0m              ^\u001b[0m\n\u001b[0;31mSyntaxError\u001b[0m\u001b[0;31m:\u001b[0m invalid syntax\n"
     ]
    }
   ],
   "source": [
    "# export_course4_week3a.py\n",
    "\n",
    "import glob, zipfile, os, os.path\n",
    "\n",
    "def get_filepaths():\n",
    "    notebooks_path = os.path.join('.', \"*.ipynb\")\n",
    "    notebooks = glob.glob(notebooks_path)\n",
    "    sources_path = os.path.join('.', '*.py')\n",
    "    sources = glob.glob(sources_path)\n",
    "    sources_path2 = os.path.join('.', 'yad2k', 'models','*.py')\n",
    "    sources2 = glob.glob(sources_path)\n",
    "    sources += sources2\n",
    "    sources_path3 = os.path.join('.', 'yad2k', 'utils','*.py')\n",
    "    sources3 = glob.glob(sources_path)\n",
    "    sources += sources3\n",
    "    \n",
    "    # NAA.  No datasets.\n",
    "    datasets_path = os.path.join('.', 'datasets', '*.h5')\n",
    "    datasets = glob.glob(datasets_path)\n",
    "    datasets2_path = os.path.join('.', 'datasets', '*.mat')\n",
    "    datasets2 = glob.glob(datasets2_path)\n",
    "    datasets += datasets2\n",
    "    datasets3_path = os.path.join('.', 'datasets', '*.*')\n",
    "    datasets3 = glob.glob(datasets3_path)\n",
    "    datasets += datasets3\n",
    "\n",
    "    images_path = os.path.join('.', 'images', '*.*')\n",
    "    images = glob.glob(images_path)\n",
    "    images_path2 = os.path.join('.', 'nb_images', '*.*')\n",
    "    images2 = glob.glob(images_path2)\n",
    "    images = += images2\n",
    "    images_path3 = os.path.join('.', 'out', '*.*')\n",
    "    images3 = glob.glob(images_path3)\n",
    "    images = += images3    \n",
    "    \n",
    "    misc_path = os.path.join('.', 'font', '*.*')\n",
    "    misc = glob.glob(misc_path)\n",
    "    misc_path2 = os.path.join('.', '*LICENSE')\n",
    "    misc2 = glob.glob(misc_path)    \n",
    "    misc += misc2\n",
    "\n",
    "    #print (type(datasets))\n",
    "    #print(\"datasets: \" + str(datasets))\n",
    "    #print(\"images: \" + str(images))\n",
    "\n",
    "    filepaths = notebooks + sources + datasets + images\n",
    "\n",
    "    if (debug):\n",
    "        print(\"filepaths: \" + str(filepaths))\n",
    "\n",
    "    return filepaths\n",
    "\n",
    "def export_files(zipfilename):\n",
    "    filepaths = get_filepaths()\n",
    "\n",
    "    if (debug):\n",
    "        with zipfile.ZipFile(zipfilename, 'w') as myzip:\n",
    "            for f in filepaths:\n",
    "                print(\"f: \" + f)\n",
    "                myzip.write(f)\n",
    "\n",
    "def check_export_file(zipfilename):\n",
    "    if (os.path.isfile(zipfilename)):\n",
    "        print(\"Export successful.\")\n",
    "\n",
    "# main\n",
    "zipfilename = os.path.join(\".\", \"deeplearning.ai-course4-week3a.zip\")\n",
    "debug = True\n",
    "export_files(zipfilename)\n",
    "check_export_file(zipfilename)"
   ]
  }
 ],
 "metadata": {
  "kernelspec": {
   "display_name": "Python 3",
   "language": "python",
   "name": "python3"
  },
  "language_info": {
   "codemirror_mode": {
    "name": "ipython",
    "version": 3
   },
   "file_extension": ".py",
   "mimetype": "text/x-python",
   "name": "python",
   "nbconvert_exporter": "python",
   "pygments_lexer": "ipython3",
   "version": "3.6.0"
  }
 },
 "nbformat": 4,
 "nbformat_minor": 2
}
