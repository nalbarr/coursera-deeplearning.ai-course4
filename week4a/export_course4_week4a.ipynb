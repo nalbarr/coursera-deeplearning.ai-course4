{
 "cells": [
  {
   "cell_type": "code",
   "execution_count": null,
   "metadata": {},
   "outputs": [
    {
     "name": "stdout",
     "output_type": "stream",
     "text": [
      "filepaths: ['./Art Generation with Neural Style Transfer - v1.ipynb', './export_course4_week4a.ipynb', './Art Generation with Neural Style Transfer - v2.ipynb', './nst_utils.py', './pretrained-model/imagenet-vgg-verydeep-19.mat', './images/persian_cat.jpg', './images/NST_LOSS.png', './images/circle_abstract.png', './images/stone_style.jpg', './images/louvre_small.jpg', './images/louvre.jpg', './images/persian_cat_content.jpg', './images/result.png', './images/monet.jpg', './images/gram.png', './images/drop-of-water.jpg', './images/sandstone.jpg', './images/hidden_layers.png', './images/louvre_generated.png', './images/content_plus_style.png', './images/pasargad_kashi.png', './images/perspolis_vangogh.png', './images/content300.jpg', './images/claude-monet.jpg', './images/style300.jpg', './images/NST_GM.png', './images/reshape_loss.png', './images/cat.jpg', './images/monet_800600.jpg', './images/camp-nou.jpg', './images/content.jpeg']\n",
      "f: ./Art Generation with Neural Style Transfer - v1.ipynb\n",
      "f: ./export_course4_week4a.ipynb\n",
      "f: ./Art Generation with Neural Style Transfer - v2.ipynb\n",
      "f: ./nst_utils.py\n",
      "f: ./pretrained-model/imagenet-vgg-verydeep-19.mat\n",
      "f: ./images/persian_cat.jpg\n",
      "f: ./images/NST_LOSS.png\n",
      "f: ./images/circle_abstract.png\n",
      "f: ./images/stone_style.jpg\n",
      "f: ./images/louvre_small.jpg\n",
      "f: ./images/louvre.jpg\n",
      "f: ./images/persian_cat_content.jpg\n",
      "f: ./images/result.png\n",
      "f: ./images/monet.jpg\n",
      "f: ./images/gram.png\n",
      "f: ./images/drop-of-water.jpg\n",
      "f: ./images/sandstone.jpg\n",
      "f: ./images/hidden_layers.png\n",
      "f: ./images/louvre_generated.png\n",
      "f: ./images/content_plus_style.png\n",
      "f: ./images/pasargad_kashi.png\n",
      "f: ./images/perspolis_vangogh.png\n",
      "f: ./images/content300.jpg\n",
      "f: ./images/claude-monet.jpg\n",
      "f: ./images/style300.jpg\n",
      "f: ./images/NST_GM.png\n",
      "f: ./images/reshape_loss.png\n",
      "f: ./images/cat.jpg\n",
      "f: ./images/monet_800600.jpg\n",
      "f: ./images/camp-nou.jpg\n",
      "f: ./images/content.jpeg\n"
     ]
    }
   ],
   "source": [
    "# export_course4_week4a.py\n",
    "import glob, zipfile, os, os.path\n",
    "\n",
    "def get_filepaths():\n",
    "    notebooks_path = os.path.join('.', \"*.ipynb\")\n",
    "    notebooks = glob.glob(notebooks_path)\n",
    "    sources_path = os.path.join('.', '*.py')\n",
    "    sources = glob.glob(sources_path)\n",
    "\n",
    "    # NAA.  No datasets.\n",
    "    datasets_path = os.path.join('.', 'pretrained-model', '*.mat')\n",
    "    datasets = glob.glob(datasets_path)        \n",
    "\n",
    "    images_path = os.path.join('.', 'images', '*.*')\n",
    "    images = glob.glob(images_path)\n",
    "\n",
    "    #print (type(datasets))\n",
    "    #print(\"datasets: \" + str(datasets))\n",
    "    #print(\"images: \" + str(images))\n",
    "\n",
    "    filepaths = notebooks + sources + datasets + images\n",
    "\n",
    "    if (debug):\n",
    "        print(\"filepaths: \" + str(filepaths))\n",
    "\n",
    "    return filepaths\n",
    "\n",
    "def export_files(zipfilename):\n",
    "    filepaths = get_filepaths()\n",
    "\n",
    "    if (debug):\n",
    "        with zipfile.ZipFile(zipfilename, 'w') as myzip:\n",
    "            for f in filepaths:\n",
    "                print(\"f: \" + f)\n",
    "                myzip.write(f)\n",
    "\n",
    "def check_export_file(zipfilename):\n",
    "    if (os.path.isfile(zipfilename)):\n",
    "        print(\"Export successful.\")\n",
    "\n",
    "# main\n",
    "zipfilename = os.path.join(\".\", \"deeplearning.ai-course4-week4a.zip\")\n",
    "debug = True\n",
    "export_files(zipfilename)\n",
    "check_export_file(zipfilename)"
   ]
  }
 ],
 "metadata": {
  "kernelspec": {
   "display_name": "Python 3",
   "language": "python",
   "name": "python3"
  },
  "language_info": {
   "codemirror_mode": {
    "name": "ipython",
    "version": 3
   },
   "file_extension": ".py",
   "mimetype": "text/x-python",
   "name": "python",
   "nbconvert_exporter": "python",
   "pygments_lexer": "ipython3",
   "version": "3.6.0"
  }
 },
 "nbformat": 4,
 "nbformat_minor": 2
}
