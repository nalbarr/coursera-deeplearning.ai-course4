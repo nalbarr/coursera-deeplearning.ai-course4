{
 "cells": [
  {
   "cell_type": "code",
   "execution_count": null,
   "metadata": {
    "collapsed": true
   },
   "outputs": [],
   "source": [
    "# export_course4_week2b.py\n",
    "\n",
    "import glob, zipfile, os, os.path\n",
    "\n",
    "def get_filepaths():\n",
    "    notebooks_path = os.path.join('.', \"*.ipynb\")\n",
    "    notebooks = glob.glob(notebooks_path)\n",
    "    sources_path = os.path.join('.', '*.py')\n",
    "    sources = glob.glob(sources_path)\n",
    "\n",
    "    # NAA.  No datasets.\n",
    "    datasets_path = os.path.join('.', 'datasets', '*.h5')\n",
    "    datasets = glob.glob(datasets_path)\n",
    "    datasets2_path = os.path.join('.', 'datasets', '*.mat')\n",
    "    datasets2 = glob.glob(datasets2_path)\n",
    "    datasets += datasets2\n",
    "\n",
    "    images_path = os.path.join('.', 'images', '*.*')\n",
    "    images = glob.glob(images_path)\n",
    "\n",
    "    #print (type(datasets))\n",
    "    #print(\"datasets: \" + str(datasets))\n",
    "    #print(\"images: \" + str(images))\n",
    "\n",
    "    filepaths = notebooks + sources + datasets + images\n",
    "\n",
    "    if (debug):\n",
    "        print(\"filepaths: \" + str(filepaths))\n",
    "\n",
    "    return filepaths\n",
    "\n",
    "def export_files(zipfilename):\n",
    "    filepaths = get_filepaths()\n",
    "\n",
    "    if (debug):\n",
    "        with zipfile.ZipFile(zipfilename, 'w') as myzip:\n",
    "            for f in filepaths:\n",
    "                print(\"f: \" + f)\n",
    "                myzip.write(f)\n",
    "\n",
    "def check_export_file(zipfilename):\n",
    "    if (os.path.isfile(zipfilename)):\n",
    "        print(\"Export successful.\")\n",
    "\n",
    "# main\n",
    "zipfilename = os.path.join(\".\", \"deeplearning.ai-course4-week2b.zip\")\n",
    "debug = True\n",
    "export_files(zipfilename)\n",
    "check_export_file(zipfilename)\n",
    "\n"
   ]
  }
 ],
 "metadata": {
  "kernelspec": {
   "display_name": "Python 3",
   "language": "python",
   "name": "python3"
  },
  "language_info": {
   "codemirror_mode": {
    "name": "ipython",
    "version": 3
   },
   "file_extension": ".py",
   "mimetype": "text/x-python",
   "name": "python",
   "nbconvert_exporter": "python",
   "pygments_lexer": "ipython3",
   "version": "3.6.0"
  }
 },
 "nbformat": 4,
 "nbformat_minor": 2
}
