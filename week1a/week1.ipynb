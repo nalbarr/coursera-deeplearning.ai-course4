{
 "cells": [
  {
   "cell_type": "code",
   "execution_count": 1,
   "metadata": {
    "collapsed": true
   },
   "outputs": [],
   "source": [
    "import numpy as np"
   ]
  },
  {
   "cell_type": "code",
   "execution_count": 10,
   "metadata": {},
   "outputs": [
    {
     "name": "stdout",
     "output_type": "stream",
     "text": [
      "vert: 0, 2 horiz: 0, 2\n",
      "vert: 0, 2 horiz: 1, 3\n",
      "vert: 0, 2 horiz: 2, 4\n",
      "vert: 0, 2 horiz: 3, 5\n",
      "vert: 1, 3 horiz: 0, 2\n",
      "vert: 1, 3 horiz: 1, 3\n",
      "vert: 1, 3 horiz: 2, 4\n",
      "vert: 1, 3 horiz: 3, 5\n",
      "vert: 2, 4 horiz: 0, 2\n",
      "vert: 2, 4 horiz: 1, 3\n",
      "vert: 2, 4 horiz: 2, 4\n",
      "vert: 2, 4 horiz: 3, 5\n",
      "vert: 3, 5 horiz: 0, 2\n",
      "vert: 3, 5 horiz: 1, 3\n",
      "vert: 3, 5 horiz: 2, 4\n",
      "vert: 3, 5 horiz: 3, 5\n"
     ]
    }
   ],
   "source": [
    "n_H = 4\n",
    "n_W = 4\n",
    "n_C = 1\n",
    "f = 2\n",
    "for h in range(n_H):\n",
    "    for w in range(n_W):\n",
    "        for c in range(n_C):\n",
    "            vert_start = h\n",
    "            vert_end = h + f\n",
    "            horiz_start = w\n",
    "            horiz_end = w + f\n",
    "            print (\"vert: \" + str(vert_start) + \", \" + str(vert_end) + \" horiz: \" + str(horiz_start) + \", \" + str(horiz_end) )\n",
    "                   "
   ]
  },
  {
   "cell_type": "code",
   "execution_count": null,
   "metadata": {
    "collapsed": true
   },
   "outputs": [],
   "source": []
  }
 ],
 "metadata": {
  "kernelspec": {
   "display_name": "Python 3",
   "language": "python",
   "name": "python3"
  },
  "language_info": {
   "codemirror_mode": {
    "name": "ipython",
    "version": 3
   },
   "file_extension": ".py",
   "mimetype": "text/x-python",
   "name": "python",
   "nbconvert_exporter": "python",
   "pygments_lexer": "ipython3",
   "version": "3.6.0"
  }
 },
 "nbformat": 4,
 "nbformat_minor": 2
}
